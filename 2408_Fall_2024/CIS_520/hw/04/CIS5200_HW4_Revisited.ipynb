{
  "nbformat": 4,
  "nbformat_minor": 0,
  "metadata": {
    "colab": {
      "provenance": []
    },
    "kernelspec": {
      "name": "python3",
      "display_name": "Python 3"
    },
    "language_info": {
      "name": "python"
    }
  },
  "cells": [
    {
      "cell_type": "code",
      "execution_count": 1,
      "metadata": {
        "id": "4f5fN8J4-Toz"
      },
      "outputs": [],
      "source": [
        "import torch\n",
        "import torch.nn as nn\n",
        "import torch.nn.functional as F\n",
        "\n",
        "from torch.utils.data import DataLoader\n",
        "\n",
        "from torchvision.datasets import MNIST\n",
        "import torchvision.transforms as transforms\n",
        "\n",
        "from sklearn import datasets\n",
        "import pandas as pd\n",
        "\n",
        "import matplotlib.pyplot as plt"
      ]
    },
    {
      "cell_type": "markdown",
      "source": [
        "### 0. Gradients with PyTorch\n",
        "\n",
        "At this point, you've implemented a lot of gradients. However, these days, manual implementation of gradients is a thing of the past: PyTorch is a scientific computing library that comes with the ability to automatically compute gradients for you! This is called auto-differentiation. Here is an example of using auto-differentiation to compute the gradient of a quadratic function, $f(x) = ax^2$. The key parts are as follows:\n",
        "\n",
        "1. Variables that you want to differentiate with respect to should have the `requires_grad` flag set to `True`.\n",
        "2. Calculate the objective that you'd like the compute the gradient of, using the variable from step (1).\n",
        "3. Pass the objective and the variable you are differentiating to `torch.autograd.grad`."
      ],
      "metadata": {
        "id": "AIO66t4HOulR"
      }
    },
    {
      "cell_type": "code",
      "source": [
        "# Step 1: Set requires_grad to True for x\n",
        "x = torch.Tensor([3.0])\n",
        "a = torch.Tensor([1.5])\n",
        "x.requires_grad = True\n",
        "\n",
        "# Step 2: Compute the objective\n",
        "y = a * (x**2)\n",
        "\n",
        "# Step 3: Use autograd\n",
        "grad = torch.autograd.grad([y],[x])[0]\n",
        "\n",
        "print(\"PyTorch gradient:\", grad)\n",
        "print(\"Manual gradient:\", 2*a*x)"
      ],
      "metadata": {
        "colab": {
          "base_uri": "https://localhost:8080/"
        },
        "id": "k7ChCYQLOwQQ",
        "outputId": "9436c456-1b0c-429c-f9f1-33765b26ec15"
      },
      "execution_count": 2,
      "outputs": [
        {
          "output_type": "stream",
          "name": "stdout",
          "text": [
            "PyTorch gradient: tensor([9.])\n",
            "Manual gradient: tensor([9.], grad_fn=<MulBackward0>)\n"
          ]
        }
      ]
    },
    {
      "cell_type": "markdown",
      "source": [
        "You'll notice that the gradient computed with PyTorch matches exactly the analytic gradient $\\nabla f(x) = 2ax$, but without having to implement or derive the analytic gradient! This works for gradients with respect to any sized variables. For example, if $x$ is now a vector, and the objective is $f(x) = a\\|x\\|_2^2$ then we can calculate the gradient in the same way:"
      ],
      "metadata": {
        "id": "XcFJD9eNQOGK"
      }
    },
    {
      "cell_type": "code",
      "source": [
        "# Step 1: Set requires_grad to True for x\n",
        "x = torch.Tensor([3.0, 2.0])\n",
        "a = torch.Tensor([1.5])\n",
        "x.requires_grad = True\n",
        "\n",
        "# Step 2: Compute the objective\n",
        "y = a * (x.norm(p=2)**2)\n",
        "\n",
        "# Step 3: Use autograd\n",
        "grad = torch.autograd.grad([y],[x])[0]\n",
        "\n",
        "print(\"PyTorch gradient:\", grad)\n",
        "print(\"Analytic gradient:\", 2*a*x)"
      ],
      "metadata": {
        "colab": {
          "base_uri": "https://localhost:8080/"
        },
        "id": "ebwbQq-rQPIH",
        "outputId": "94e22b88-db48-44a9-8327-113897a79fed"
      },
      "execution_count": 3,
      "outputs": [
        {
          "output_type": "stream",
          "name": "stdout",
          "text": [
            "PyTorch gradient: tensor([9.0000, 6.0000])\n",
            "Analytic gradient: tensor([9., 6.], grad_fn=<MulBackward0>)\n"
          ]
        }
      ]
    },
    {
      "cell_type": "markdown",
      "source": [
        "# 1. SVM and Gradient Descent -- This time with Autograd!\n",
        "\n",
        "In this first problem, you'll implement (soft margin) support vector machines with gradient descent, using gradients from PyTorch's autodifferentiation library.\n",
        "+ (2pts) Calculate the objective of the Soft SVM\n",
        "+ (2pts) Calculate the gradient of the Soft SVM objective, but using torch.autograd.grad\n",
        "+ (2pts) Implement a basic gradient descent optimizer. Your solution needs to converge to an accurate enough answer.\n",
        "+ (1pts) Make predictions with the Soft SVM\n",
        "\n",
        "Tips:\n",
        "- Take a look back at Homework 2 -- this problem shouldn't take you very long :-)"
      ],
      "metadata": {
        "id": "y8u1ov8uSvLu"
      }
    },
    {
      "cell_type": "code",
      "source": [
        "class SoftSVM:\n",
        "    def __init__(self, ndims):\n",
        "        # Here, we initialize the parameters of your soft-SVM model for binary\n",
        "        # classification. Don't change the weight and bias variables as the\n",
        "        # autograder will assume that these exist.\n",
        "        # ndims := integer -- number of dimensions\n",
        "        # no return type\n",
        "\n",
        "        self.weight = torch.zeros(ndims, requires_grad=True)\n",
        "        self.bias = torch.zeros(1, requires_grad=True)\n",
        "\n",
        "\n",
        "    def objective(self, X, y, l2_reg):\n",
        "        # Calculate the objective of your soft-SVM model\n",
        "        # X := Tensor of size (m,d) -- the input features of m examples with d dimensions\n",
        "        # y := Tensor of size (m) -- the labels for each example in X\n",
        "        # l2_reg := float -- L2 regularization penalty\n",
        "        # Returns a scalar tensor (zero dimensional tensor) -- the loss for the model\n",
        "        # Fill in the rest\n",
        "        m, d = X.size()\n",
        "\n",
        "        margin = 1 - y * (X @ self.weight + self.bias)\n",
        "        hinge_loss = torch.sum(torch.max(torch.zeros(m), margin))\n",
        "\n",
        "        reg_term = l2_reg * torch.sum(self.weight ** 2)\n",
        "\n",
        "        return hinge_loss / m + reg_term\n",
        "\n",
        "\n",
        "    def gradient(self, X, y, l2_reg):\n",
        "        # Calculate the gradient of your soft-SVM model\n",
        "        # X := Tensor of size (m,d) -- the input features of m examples with d dimensions\n",
        "        # y := Tensor of size (m) -- the labels for each example in X\n",
        "        # l2_reg := float -- L2 regularization penalty\n",
        "        # Return Tuple (Tensor, Tensor) -- the tensors corresponds to the weight\n",
        "        # and bias parameters respectively\n",
        "        # Fill in the rest\n",
        "        w_grad = torch.autograd.grad([self.objective(X, y, l2_reg)], [self.weight])[0]\n",
        "        b_grad = torch.autograd.grad([self.objective(X, y, l2_reg)], [self.bias])[0]\n",
        "\n",
        "        return w_grad, b_grad\n",
        "\n",
        "\n",
        "    def optimize(self, X, y, l2_reg):\n",
        "        # Calculate the gradient of your soft-SVM model\n",
        "        # X := Tensor of size (m,d) -- the input features of m examples with d dimensions\n",
        "        # y := Tensor of size (m) -- the labels for each example in X\n",
        "        # l2_reg := float -- L2 regularization penalty\n",
        "\n",
        "        # no return type\n",
        "\n",
        "        # Fill in the rest\n",
        "        prev_objective = float('inf')\n",
        "        tolerance = 1e-5\n",
        "        learning_rate = 1.491\n",
        "        n_iter = 0\n",
        "\n",
        "        while True:\n",
        "            n_iter += 1\n",
        "            current_objective = self.objective(X, y, l2_reg)\n",
        "            if current_objective < 0.16 or abs(prev_objective - current_objective) < tolerance:\n",
        "                print('{} iteration(s)'.format(n_iter))\n",
        "                break\n",
        "\n",
        "            prev_objective = current_objective\n",
        "            wg, bg = self.gradient(X, y, l2_reg)\n",
        "            self.weight = self.weight - wg * learning_rate\n",
        "            self.bias = self.bias - bg * learning_rate\n",
        "\n",
        "\n",
        "    def predict(self, X):\n",
        "        # Given an X, make a prediction with the SVM\n",
        "        # X := Tensor of size (m,d) -- features of m examples with d dimensions\n",
        "        # Return a tensor of size (m) -- the prediction labels on the dataset X\n",
        "        return torch.sign(X @ self.weight + self.bias)"
      ],
      "metadata": {
        "id": "CJqAyJSHSzci"
      },
      "execution_count": 4,
      "outputs": []
    },
    {
      "cell_type": "code",
      "source": [
        "# Load Dataset\n",
        "cancer = datasets.load_breast_cancer()\n",
        "X, y = torch.from_numpy(cancer['data']), torch.from_numpy(cancer['target'])\n",
        "mu, sigma = X.mean(0, keepdim=True), X.std(0, keepdim=True)\n",
        "X, y = ((X-mu)/sigma).float(), (y-0.5).sign()\n",
        "l2_reg = 0.1\n",
        "print(X.size(), y.size())\n",
        "\n",
        "# Optimize the soft-SVM with GD\n",
        "clf = SoftSVM(X.size(1))\n",
        "clf.optimize(X, y, l2_reg)\n",
        "print(\"\\nSoft SVM objective : {}\".format(clf.objective(X, y, l2_reg).item()))\n",
        "print(\"\\nSoft SVM accuracy : {}\".format((clf.predict(X) == y).float().mean().item()))"
      ],
      "metadata": {
        "colab": {
          "base_uri": "https://localhost:8080/"
        },
        "id": "abstfPiyUcK5",
        "outputId": "f6c8b2b2-7759-445c-89b7-fd8210e358da"
      },
      "execution_count": 5,
      "outputs": [
        {
          "output_type": "stream",
          "name": "stdout",
          "text": [
            "torch.Size([569, 30]) torch.Size([569])\n",
            "9 iteration(s)\n",
            "\n",
            "Soft SVM objective : 0.15944302082061768\n",
            "\n",
            "Soft SVM accuracy : 0.9753954410552979\n"
          ]
        }
      ]
    },
    {
      "cell_type": "markdown",
      "source": [
        "# Question 2: Fully Connected Neural Network (10 points)\n",
        "Import MNIST dataset."
      ],
      "metadata": {
        "id": "d_6XwFOXzldu"
      }
    },
    {
      "cell_type": "code",
      "source": [
        "transformation = transforms.Compose([transforms.ToTensor(), torch.flatten])\n",
        "\n",
        "train_set = MNIST('./data', train=True, download=True, transform=transformation)\n",
        "test_set = MNIST('./data', train=False, download=True, transform=transformation)\n",
        "\n",
        "train_loader = DataLoader(train_set, batch_size=1024, shuffle=True, num_workers=0)\n",
        "test_loader = DataLoader(test_set, batch_size=1024, shuffle=False, num_workers=0)"
      ],
      "metadata": {
        "colab": {
          "base_uri": "https://localhost:8080/"
        },
        "id": "gEJxLvLMzxTm",
        "outputId": "891ee39f-4239-4c77-cdf6-97fda551eb0a"
      },
      "execution_count": 6,
      "outputs": [
        {
          "output_type": "stream",
          "name": "stdout",
          "text": [
            "Downloading http://yann.lecun.com/exdb/mnist/train-images-idx3-ubyte.gz\n",
            "Failed to download (trying next):\n",
            "HTTP Error 403: Forbidden\n",
            "\n",
            "Downloading https://ossci-datasets.s3.amazonaws.com/mnist/train-images-idx3-ubyte.gz\n",
            "Downloading https://ossci-datasets.s3.amazonaws.com/mnist/train-images-idx3-ubyte.gz to ./data/MNIST/raw/train-images-idx3-ubyte.gz\n"
          ]
        },
        {
          "output_type": "stream",
          "name": "stderr",
          "text": [
            "100%|██████████| 9.91M/9.91M [00:00<00:00, 123MB/s]"
          ]
        },
        {
          "output_type": "stream",
          "name": "stdout",
          "text": [
            "Extracting ./data/MNIST/raw/train-images-idx3-ubyte.gz to ./data/MNIST/raw\n"
          ]
        },
        {
          "output_type": "stream",
          "name": "stderr",
          "text": [
            "\n"
          ]
        },
        {
          "output_type": "stream",
          "name": "stdout",
          "text": [
            "\n",
            "Downloading http://yann.lecun.com/exdb/mnist/train-labels-idx1-ubyte.gz\n",
            "Failed to download (trying next):\n",
            "HTTP Error 403: Forbidden\n",
            "\n",
            "Downloading https://ossci-datasets.s3.amazonaws.com/mnist/train-labels-idx1-ubyte.gz\n",
            "Downloading https://ossci-datasets.s3.amazonaws.com/mnist/train-labels-idx1-ubyte.gz to ./data/MNIST/raw/train-labels-idx1-ubyte.gz\n"
          ]
        },
        {
          "output_type": "stream",
          "name": "stderr",
          "text": [
            "100%|██████████| 28.9k/28.9k [00:00<00:00, 6.47MB/s]"
          ]
        },
        {
          "output_type": "stream",
          "name": "stdout",
          "text": [
            "Extracting ./data/MNIST/raw/train-labels-idx1-ubyte.gz to ./data/MNIST/raw\n",
            "\n",
            "Downloading http://yann.lecun.com/exdb/mnist/t10k-images-idx3-ubyte.gz\n"
          ]
        },
        {
          "output_type": "stream",
          "name": "stderr",
          "text": [
            "\n"
          ]
        },
        {
          "output_type": "stream",
          "name": "stdout",
          "text": [
            "Failed to download (trying next):\n",
            "HTTP Error 403: Forbidden\n",
            "\n",
            "Downloading https://ossci-datasets.s3.amazonaws.com/mnist/t10k-images-idx3-ubyte.gz\n",
            "Downloading https://ossci-datasets.s3.amazonaws.com/mnist/t10k-images-idx3-ubyte.gz to ./data/MNIST/raw/t10k-images-idx3-ubyte.gz\n"
          ]
        },
        {
          "output_type": "stream",
          "name": "stderr",
          "text": [
            "100%|██████████| 1.65M/1.65M [00:00<00:00, 93.4MB/s]\n"
          ]
        },
        {
          "output_type": "stream",
          "name": "stdout",
          "text": [
            "Extracting ./data/MNIST/raw/t10k-images-idx3-ubyte.gz to ./data/MNIST/raw\n",
            "\n",
            "Downloading http://yann.lecun.com/exdb/mnist/t10k-labels-idx1-ubyte.gz\n",
            "Failed to download (trying next):\n",
            "HTTP Error 403: Forbidden\n",
            "\n",
            "Downloading https://ossci-datasets.s3.amazonaws.com/mnist/t10k-labels-idx1-ubyte.gz\n",
            "Downloading https://ossci-datasets.s3.amazonaws.com/mnist/t10k-labels-idx1-ubyte.gz to ./data/MNIST/raw/t10k-labels-idx1-ubyte.gz\n"
          ]
        },
        {
          "output_type": "stream",
          "name": "stderr",
          "text": [
            "100%|██████████| 4.54k/4.54k [00:00<00:00, 4.47MB/s]"
          ]
        },
        {
          "output_type": "stream",
          "name": "stdout",
          "text": [
            "Extracting ./data/MNIST/raw/t10k-labels-idx1-ubyte.gz to ./data/MNIST/raw\n",
            "\n"
          ]
        },
        {
          "output_type": "stream",
          "name": "stderr",
          "text": [
            "\n"
          ]
        }
      ]
    },
    {
      "cell_type": "markdown",
      "source": [
        "Check the dataset."
      ],
      "metadata": {
        "id": "M0Gy2JdD22vH"
      }
    },
    {
      "cell_type": "code",
      "source": [
        "print(\"training set is {:d} x {:d}\".format(60000, 28 * 28))\n",
        "print(\"test     set is {:d} x {:d}\".format(10000, 28 * 28))\n",
        "\n",
        "fig, axes = plt.subplots(1, 10)\n",
        "for i in range(10):\n",
        "  target_mask = test_set.targets == i\n",
        "  img = test_set.data[target_mask][0]   # Choose only the first image!\n",
        "  axes[i].imshow(img, cmap='gray')\n",
        "  axes[i].set_xticks([])\n",
        "  axes[i].set_yticks([])\n",
        "plt.show()"
      ],
      "metadata": {
        "colab": {
          "base_uri": "https://localhost:8080/",
          "height": 114
        },
        "id": "R4P2VKLH24tk",
        "outputId": "d620a0d4-e294-4d5a-f850-0db29652263b"
      },
      "execution_count": 10,
      "outputs": [
        {
          "output_type": "stream",
          "name": "stdout",
          "text": [
            "training set is 60000 x 784\n",
            "test     set is 10000 x 784\n"
          ]
        },
        {
          "output_type": "display_data",
          "data": {
            "text/plain": [
              "<Figure size 640x480 with 10 Axes>"
            ],
            "image/png": "[encoded data removed]"
          },
          "metadata": {}
        }
      ]
    },
    {
      "cell_type": "markdown",
      "source": [
        "Implement a fully connected neural network using `torch.autograd` and `torch.nn`.\n",
        "\n",
        "1. (4 points) Implement the `Network` class by completing `__init__` and `forward` functions.\n",
        "This is an one-hidden-layer ReLU network with the forward pass computed as\n",
        "$$\n",
        "f(\\mathbf{x}) = \\mathbf{W}_2 \\operatorname{ReLU}(\\mathbf{W}_1\\mathbf{x} + \\mathbf{b}_1) + \\mathbf{b}_2.\n",
        "$$\n",
        "    - You can use `torch.nn.Linear` to help you implement the fully connected layer.\n",
        "    - You can use `torch.nn.functional.relu` to implement the activation function.\n",
        "    - Do not apply the softmax function on the network's output. You should strictly follow the above formula to implement the `forward` function, since the output of this function is the **pre-softmax** logits.\n",
        "2. (2 points) Implement the `evaluate` function. This function computes the accuracy on the training/test set.\n",
        "3. (4 points) Implement the `train` function. This function minimizes the cross entropy loss (a generalization of the logistic loss for multi-class classification) on the training set by stochastic gradient descent. You can compute the gradient using PyTorch autograd engine.\n"
      ],
      "metadata": {
        "id": "U4dqC7EBzjy3"
      }
    },
    {
      "cell_type": "code",
      "source": [
        "class Network(nn.Module):\n",
        "    def __init__(self, in_dim, hidden, out_dim):\n",
        "        super().__init__()\n",
        "        self.lin1 = torch.nn.Linear(in_dim, hidden, bias=True)    # W_1 * x + b_1 : input -> hidden\n",
        "        self.lin2 = torch.nn.Linear(hidden, out_dim, bias=True)   # W_2 * x + b_2 : hidden -> output\n",
        "\n",
        "\n",
        "    def forward(self, x):\n",
        "        non_lin = torch.nn.functional.relu(self.lin1(x))    # h_1 = ReLU(W_1 * x + b_1) : ReLU activation function!\n",
        "        f = self.lin2(non_lin)                              # f = W_2 * ReLU(W_1 * x + b_1) + b_2\n",
        "        return f\n",
        "\n",
        "\n",
        "    @torch.no_grad()  # Enhance performance by disabling backpropagation!\n",
        "    def evaluate(self, loader):\n",
        "        \"\"\"\n",
        "        Evaluate the model accuracy on the training/test set by looping over the data loader.\n",
        "\n",
        "        Args:\n",
        "            self: this neural network\n",
        "            loader: a PyTorch data loader\n",
        "\n",
        "        Returns:\n",
        "            (a float scalar) the accuracy on the training/test set\n",
        "        \"\"\"\n",
        "        self.eval()   # Set the evaluation mode for the nn.Module class (not the train mode!)\n",
        "        correct, total = 0., 0.\n",
        "\n",
        "        for data, target in loader:\n",
        "            outputs = self.forward(data)\n",
        "            max_val, max_class = torch.max(outputs, dim=1)  # maximum value of each row of outputs\n",
        "            total += target.size(0)\n",
        "            correct += (target == max_class).sum().item()\n",
        "\n",
        "        return correct / total\n",
        "\n",
        "\n",
        "    def train_model(self, optimizer, train_loader, test_loader, epoch=20):\n",
        "        \"\"\"\n",
        "        Train the neural network.\n",
        "\n",
        "        Args:\n",
        "            self: this neural network\n",
        "            train_loader: a PyTorch data loader on the training set\n",
        "            test_loader: a PyTorch data loader on the test set\n",
        "            epoch: the number of epochs\n",
        "\n",
        "        Returns:\n",
        "            None, the model is updated in-place\n",
        "        \"\"\"\n",
        "        self.train()  # Set the train mode for the nn.Module class (not the evaluation mode!)\n",
        "\n",
        "        # Cross Entropy Loss\n",
        "        criterion = nn.CrossEntropyLoss()\n",
        "\n",
        "        for _ in range(epoch):\n",
        "            self.train()    # Set the train mode for the nn.Module class (not the evaluation mode) for safety!\n",
        "            for data, target in train_loader:\n",
        "                optimizer.zero_grad()   # Initialize the gradients into zeros.\n",
        "                outputs = self.forward(data)\n",
        "                loss = criterion(outputs, target)\n",
        "                loss.backward()\n",
        "                optimizer.step()  # Update parameters using the gradient : w = w - lr * gradient"
      ],
      "metadata": {
        "id": "flpxw2VO4sim"
      },
      "execution_count": 11,
      "outputs": []
    },
    {
      "cell_type": "markdown",
      "source": [
        "Implement the method for the visualization."
      ],
      "metadata": {
        "id": "GtmjvYDrP_Zs"
      }
    },
    {
      "cell_type": "code",
      "source": [
        "def visualize(model, n):\n",
        "    image_indices = [None for _ in range(n)]\n",
        "    predictions = [None for _ in range(n)]\n",
        "\n",
        "    fig, axes = plt.subplots(1, n, figsize=(n, 1))  # Adjust figsize for better visualization\n",
        "    for i in range(n):\n",
        "        idx = torch.randint(high=10000, size=(1,)).item()  # Test data size was 10000 * (28 * 28)\n",
        "        image_indices[i] = idx\n",
        "        img = test_set.data[idx]\n",
        "        x = img.flatten().float()\n",
        "\n",
        "        predictions[i] = model(x).argmax(dim=-1).item()  # Convert tensor to int for better readability\n",
        "        axes[i].imshow(img, cmap='gray')\n",
        "        axes[i].set_xticks([])\n",
        "        axes[i].set_yticks([])\n",
        "        axes[i].set_title(f\"Pred: {predictions[i]}\")  # Add predictions as title for each subplot\n",
        "\n",
        "    plt.tight_layout()\n",
        "    plt.show()"
      ],
      "metadata": {
        "id": "4pJjPVr7QE1K"
      },
      "execution_count": 24,
      "outputs": []
    },
    {
      "cell_type": "markdown",
      "source": [
        "Test!\n",
        "\n",
        "Let's initialize a neural network and evaluate its accuracy.\n",
        "This neural network uses a 784-100-10 architecture.\n",
        "The training/test accuracy should be around 10% at the initialization (guess the truth label correctly by random chance).\n",
        "But any thing between 5% - 15% is normal."
      ],
      "metadata": {
        "id": "2yr9junb4rz9"
      }
    },
    {
      "cell_type": "code",
      "source": [
        "model = Network(28 * 28, 100, 10)   # (Input) 28x28 image -> (Output) numbers from 0 to 9\n",
        "\n",
        "acc_train_set = model.evaluate(train_loader)\n",
        "acc_test_set = model.evaluate(test_loader)\n",
        "\n",
        "print(\"training set acc {:f}, test set acc {:f}\".format(acc_train_set, acc_test_set))"
      ],
      "metadata": {
        "colab": {
          "base_uri": "https://localhost:8080/"
        },
        "id": "9Nd2_IqVQ7H_",
        "outputId": "bcd86772-fb61-4e1d-d571-9d7e221fd415"
      },
      "execution_count": 13,
      "outputs": [
        {
          "output_type": "stream",
          "name": "stdout",
          "text": [
            "training set acc 0.114817, test set acc 0.113500\n"
          ]
        }
      ]
    },
    {
      "cell_type": "markdown",
      "source": [
        "Let's train the neural network for 20 epochs.\n",
        "The training should take about 4 min.\n",
        "You should be able to get at least 97% test accuracy."
      ],
      "metadata": {
        "id": "uvdoIIHcRly_"
      }
    },
    {
      "cell_type": "code",
      "source": [
        "# Stochastic Gradient Descent\n",
        "optimizer = torch.optim.SGD(model.parameters(), lr=1e-1, momentum=0.9, nesterov=True)\n",
        "\n",
        "# Train!\n",
        "model.train_model(optimizer, train_loader, test_loader, epoch=20)\n",
        "\n",
        "# Evaluate the accuracy!\n",
        "acc_train_set = model.evaluate(train_loader)\n",
        "acc_test_set = model.evaluate(test_loader)\n",
        "\n",
        "print(\"training set acc {:f}, test set acc {:f}\".format(acc_train_set, acc_test_set))"
      ],
      "metadata": {
        "colab": {
          "base_uri": "https://localhost:8080/"
        },
        "id": "uu0Yms1gRmtH",
        "outputId": "3802cae0-b58a-43d2-dcc0-e4ea036b55bf"
      },
      "execution_count": 14,
      "outputs": [
        {
          "output_type": "stream",
          "name": "stdout",
          "text": [
            "training set acc 0.987250, test set acc 0.975100\n"
          ]
        }
      ]
    },
    {
      "cell_type": "markdown",
      "source": [
        "Finally, let's visualize the neural network's prediction on the test set."
      ],
      "metadata": {
        "id": "YLjp3IGXSyhJ"
      }
    },
    {
      "cell_type": "code",
      "source": [
        "visualize(model, 10)"
      ],
      "metadata": {
        "colab": {
          "base_uri": "https://localhost:8080/",
          "height": 112
        },
        "id": "rfiM4MHuS2Bj",
        "outputId": "bb2e80fa-0f5b-44a6-e0d9-0638682b820f"
      },
      "execution_count": 25,
      "outputs": [
        {
          "output_type": "display_data",
          "data": {
            "text/plain": [
              "<Figure size 1000x100 with 10 Axes>"
            ],
            "image/png": "[encoded data removed]"
          },
          "metadata": {}
        }
      ]
    }
  ]
}